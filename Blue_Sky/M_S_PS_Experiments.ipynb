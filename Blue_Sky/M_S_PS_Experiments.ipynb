{
 "cells": [
  {
   "cell_type": "code",
   "execution_count": null,
   "id": "30b92c43-9bd6-452b-b3d2-615ad6cea0ed",
   "metadata": {},
   "outputs": [],
   "source": [
    "##Motor + Sensor"
   ]
  },
  {
   "cell_type": "code",
   "execution_count": null,
   "id": "8d05853e-7a3f-45a5-b9c7-a084c8307db7",
   "metadata": {},
   "outputs": [],
   "source": []
  },
  {
   "cell_type": "code",
   "execution_count": 6,
   "id": "ee0ecf66-c2a9-4231-a82e-c81625c1f5dc",
   "metadata": {},
   "outputs": [],
   "source": [
    "from ophyd import Component as Cpt, Device, EpicsSignal, EpicsSignalRO,PVPositioner\n",
    "from ophyd.status import Status\n",
    "\n",
    "class MotorDR(PVPositioner):\n",
    "\n",
    "    setpoint = Cpt(EpicsSignal,':mminput')\n",
    "    done = Cpt(EpicsSignal, '_Mtr.DMOV') # _Mtr.DMOV\n",
    "    readback = Cpt(EpicsSignal,':steptomm')\n",
    "\n",
    "\n",
    "\n",
    "class gsmtr(Device):\n",
    "    # Señales de setpoint (readback)\n",
    "    gauss_on = Cpt(EpicsSignal, \":turnon\")\n",
    "    #gauss_off = Cpt(EpicsSignal, \":turnoff\")\n",
    "    #gaus_status_onoff = Cpt(EpicsSignalRO, \":turnon\")\n",
    "    readback = Cpt(EpicsSignalRO, \":getmagfield\")\n",
    "    #done = Cpt(EpicsSignalRO, 'Cmd-Busy')\n",
    "    def ton(self):\n",
    "        \n",
    "        self.gauss_on.put(\"1\")\n",
    "\n",
    "class pwrspl(Device):\n",
    "    # Señales de lectura (readback)\n",
    "    voltage_RB  = Cpt(EpicsSignalRO, \":readV\")\n",
    "    current_RB  = Cpt(EpicsSignalRO, \":readI\")\n",
    "    slew_rate = Cpt(EpicsSignal,\":set_slew\")\n",
    "    confirm_slew = Cpt(EpicsSignal,\":confirm_slew\")\n",
    "\n",
    "    # Señal de setpoint\n",
    "    current_SP  = Cpt(EpicsSignal,   \":putI\")\n",
    "    confirm_current = Cpt(EpicsSignal, \":confirm\")\n",
    "    # Señales de encendido/apagado\n",
    "    on_cmd      = Cpt(EpicsSignal,   \":on\")\n",
    "    off_cmd     = Cpt(EpicsSignal,   \":off\")\n",
    "    # Estado de salida (asumimos que `PWRSPL:on` devuelve 1 cuando está on)\n",
    "    onoff_status= Cpt(EpicsSignalRO, \":on\")\n",
    "\n",
    "    def set(self, setpoint):\n",
    "        stat = Status(timeout=30.0)\n",
    "        print(f\"onoff stat: {self.onoff_status.get()}\")\n",
    "        # Asegurar que esté encendido\n",
    "        if self.onoff_status.get() != \"1\":\n",
    "            print(\"PS is OFF. Switching ON...\")\n",
    "            self.on_cmd.put(\"1\")\n",
    "\n",
    "        # Poner el setpoint\n",
    "        self.current_SP.put(setpoint)\n",
    "        \n",
    "        #self.confirm_current(0)\n",
    "\n",
    "        # Esperar hasta que el readback y el setpoint coincidan (±0.1)\n",
    "        while True:\n",
    "            if abs(self.current_RB.get() - self.current_SP.get()) < 0.1:\n",
    "                stat.set_finished()\n",
    "                break\n",
    "\n",
    "        return stat\n",
    "\n",
    "    def toff(self):\n",
    "        stat = Status(timeout=30.0)\n",
    "        print(f\"onoff stat: {self.onoff_status.get()}\")\n",
    "        # Asegurar que esté encendido\n",
    "        if self.onoff_status.get() == \"1\":\n",
    "            print(\"PS is ON. Switching OFF...\")\n",
    "            self.on_cmd.put(\"\")\n",
    "\n",
    "    \n"
   ]
  },
  {
   "cell_type": "code",
   "execution_count": 7,
   "id": "988eb173-9660-4461-ae36-40c39df2eb0e",
   "metadata": {},
   "outputs": [],
   "source": [
    "motor = MotorDR('GR1:Ax1',name='motor')\n",
    "gaussmtr = gsmtr('GSMTR',name='gaussmtr')\n",
    "#gaussmtr.delay=2\n",
    "psu = pwrspl(\"PWRSPL\", name=\"psu\")"
   ]
  },
  {
   "cell_type": "code",
   "execution_count": null,
   "id": "fbb5142d-029a-4128-87c4-322fd7e6d11e",
   "metadata": {},
   "outputs": [],
   "source": [
    "#motor.readback.read()"
   ]
  },
  {
   "cell_type": "markdown",
   "id": "2ab1dd72-a8ea-435c-8931-b46cdbcb4ada",
   "metadata": {},
   "source": [
    "## Fixed current and different positions experiment"
   ]
  },
  {
   "cell_type": "code",
   "execution_count": 3,
   "id": "fb1d132a-4b57-4e3a-a9f3-eb176ef216c2",
   "metadata": {},
   "outputs": [
    {
     "name": "stdout",
     "output_type": "stream",
     "text": [
      "onoff stat: 1\n"
     ]
    },
    {
     "data": {
      "text/plain": [
       "Status(obj=None, done=False, success=False)"
      ]
     },
     "execution_count": 3,
     "metadata": {},
     "output_type": "execute_result"
    }
   ],
   "source": [
    "psu.set(3)"
   ]
  },
  {
   "cell_type": "code",
   "execution_count": 4,
   "id": "d84d93e7-f23e-4a60-8f85-99d7924156a1",
   "metadata": {},
   "outputs": [
    {
     "name": "stdout",
     "output_type": "stream",
     "text": [
      "onoff stat: 1\n",
      "\n",
      "\n",
      "+-----------+------------+----------------+----------------+-------------------+\n",
      "|   seq_num |       time | motor_readback | psu_current_RB | gaussmtr_readback |\n",
      "+-----------+------------+----------------+----------------+-------------------+\n",
      "|         1 | 13:51:51.3 |             -0 |              6 |               199 |\n",
      "|         2 | 13:51:53.7 |              1 |              6 |               199 |\n",
      "|         3 | 13:51:56.1 |              2 |              6 |               201 |\n",
      "|         4 | 13:51:58.5 |              3 |              6 |               201 |\n",
      "|         5 | 13:52:00.9 |              4 |              6 |               202 |\n",
      "|         6 | 13:52:03.3 |              5 |              6 |               202 |\n",
      "|         7 | 13:52:05.7 |              6 |              6 |               203 |\n",
      "|         8 | 13:52:08.1 |              7 |              6 |               202 |\n",
      "|         9 | 13:52:10.5 |              8 |              6 |               203 |\n",
      "|        10 | 13:52:12.9 |              9 |              6 |               203 |\n",
      "|        11 | 13:52:15.3 |             10 |              6 |               204 |\n",
      "|        12 | 13:52:17.7 |             11 |              6 |               203 |\n",
      "|        13 | 13:52:20.1 |             12 |              6 |               204 |\n",
      "|        14 | 13:52:22.5 |             13 |              6 |               204 |\n",
      "|        15 | 13:52:24.9 |             14 |              6 |               205 |\n",
      "|        16 | 13:52:27.3 |             15 |              6 |               204 |\n",
      "|        17 | 13:52:29.7 |             16 |              6 |               205 |\n"
     ]
    },
    {
     "name": "stderr",
     "output_type": "stream",
     "text": [
      "CA client library is unable to contact CA repeater after 50 tries.\n",
      "Silence this message by starting a CA repeater daemon\n",
      "or by calling ca_pend_event() and or ca_poll() more often.\n"
     ]
    },
    {
     "name": "stdout",
     "output_type": "stream",
     "text": [
      "|        18 | 13:52:32.1 |             17 |              6 |               204 |\n",
      "|        19 | 13:52:34.5 |             18 |              6 |               205 |\n",
      "|        20 | 13:52:36.9 |             19 |              6 |               205 |\n",
      "|        21 | 13:52:39.3 |             20 |              6 |               205 |\n",
      "+-----------+------------+----------------+----------------+-------------------+\n",
      "generator scan ['b45c59c5'] (scan num: 1)\n",
      "\n",
      "\n"
     ]
    },
    {
     "data": {
      "text/plain": [
       "('b45c59c5-b024-4b42-89d7-bee996067fe2',)"
      ]
     },
     "execution_count": 4,
     "metadata": {},
     "output_type": "execute_result"
    }
   ],
   "source": [
    "from bluesky import RunEngine\n",
    "from bluesky.plans import scan\n",
    "from bluesky.callbacks import LiveTable\n",
    "from ophyd.sim import noisy_det\n",
    "\n",
    "# Create and configure the RunEngine\n",
    "RE = RunEngine()\n",
    "#print(\"%f\",mot.motor_rdist_mm)\n",
    "gaussmtr.ton()\n",
    "psu.set(6)\n",
    "motor.settle_time = 2\n",
    "# Subscribe a LiveTable to show the current readback\n",
    "RE.subscribe(LiveTable([motor.readback,psu.current_RB,gaussmtr.readback]))\n",
    "\n",
    "# Perform a scan moving the PSU setpoint from 0 A to 7 A in 11 steps\n",
    "RE(scan([psu.current_RB,gaussmtr.readback], motor, 0,20, 21))"
   ]
  },
  {
   "cell_type": "markdown",
   "id": "f9f13790-ba37-4701-bad7-bbf4452cd005",
   "metadata": {},
   "source": [
    "## Fixed position and different currents experiment"
   ]
  },
  {
   "cell_type": "code",
   "execution_count": 10,
   "id": "0cc4262a-de17-4ea8-a25d-b2704e7db8e8",
   "metadata": {},
   "outputs": [
    {
     "name": "stdout",
     "output_type": "stream",
     "text": [
      "onoff stat: 1\n",
      "\n",
      "\n",
      "+-----------+------------+----------------+----------------+-------------------+\n",
      "|   seq_num |       time | motor_readback | psu_current_RB | gaussmtr_readback |\n",
      "+-----------+------------+----------------+----------------+-------------------+\n",
      "|         1 | 14:02:12.0 |             20 |             -6 |              -422 |\n",
      "onoff stat: 1\n",
      "|         2 | 14:02:13.0 |             20 |             -5 |              -458 |\n",
      "onoff stat: 1\n",
      "|         3 | 14:02:14.0 |             20 |             -4 |              -398 |\n",
      "onoff stat: 1\n",
      "|         4 | 14:02:15.0 |             20 |             -3 |              -338 |\n",
      "onoff stat: 1\n",
      "|         5 | 14:02:16.0 |             20 |             -2 |              -278 |\n",
      "onoff stat: 1\n",
      "|         6 | 14:02:17.0 |             20 |             -1 |              -215 |\n",
      "onoff stat: 1\n",
      "|         7 | 14:02:18.0 |             20 |              0 |              -152 |\n",
      "onoff stat: 1\n",
      "|         8 | 14:02:19.0 |             20 |              1 |               -91 |\n",
      "onoff stat: 1\n",
      "|         9 | 14:02:20.0 |             20 |              2 |               -26 |\n",
      "onoff stat: 1\n",
      "|        10 | 14:02:21.0 |             20 |              3 |                35 |\n",
      "onoff stat: 1\n",
      "|        11 | 14:02:22.0 |             20 |              4 |                95 |\n",
      "onoff stat: 1\n",
      "|        12 | 14:02:23.0 |             20 |              5 |               152 |\n",
      "onoff stat: 1\n",
      "|        13 | 14:02:24.0 |             20 |              6 |               206 |\n",
      "+-----------+------------+----------------+----------------+-------------------+\n",
      "generator scan ['4ebcf72d'] (scan num: 1)\n",
      "\n",
      "\n"
     ]
    },
    {
     "data": {
      "text/plain": [
       "('4ebcf72d-5f72-4a36-8fe7-3cc1107b9e85',)"
      ]
     },
     "execution_count": 10,
     "metadata": {},
     "output_type": "execute_result"
    },
    {
     "name": "stderr",
     "output_type": "stream",
     "text": [
      "CA.Client.Exception...............................................\n",
      "    Warning: \"Virtual circuit disconnect\"\n",
      "    Context: \"iocsc3ess4x.ews.bessy.de:45627\"\n",
      "    Source File: ../cac.cpp line 1237\n",
      "    Current Time: Thu Aug 28 2025 14:04:43.339849317\n",
      "..................................................................\n"
     ]
    }
   ],
   "source": [
    "from bluesky import RunEngine\n",
    "from bluesky.plans import scan\n",
    "from bluesky.callbacks import LiveTable\n",
    "from ophyd.sim import noisy_det\n",
    "\n",
    "# Create and configure the RunEngine\n",
    "RE = RunEngine()\n",
    "#print(\"%f\",mot.motor_rdist_mm)\n",
    "gaussmtr.ton()\n",
    "psu.slew_rate.put(12)\n",
    "psu.confirm_slew.put(1)\n",
    "#psu.set(0)\n",
    "\n",
    "# Subscribe a LiveTable to show the current readback\n",
    "# RE.subscribe(LiveTable([psu.current_RB,motor.readback,gaussmtr.readback]))\n",
    "RE.subscribe(LiveTable([motor.readback,psu.current_RB,gaussmtr.readback]))\n",
    "\n",
    "# Perform a scan moving the PSU setpoint from -6 A to 6 A in 11 steps\n",
    "RE(scan([motor.readback, gaussmtr.readback], psu, -6,6, 13))"
   ]
  },
  {
   "cell_type": "code",
   "execution_count": null,
   "id": "5dcdc5ec-86d3-4fce-8106-27ed0a368b85",
   "metadata": {},
   "outputs": [],
   "source": [
    "RE.halt()"
   ]
  },
  {
   "cell_type": "code",
   "execution_count": null,
   "id": "3ed6cc79-ae72-4e24-a0ad-cbb21ef4ba76",
   "metadata": {},
   "outputs": [],
   "source": []
  }
 ],
 "metadata": {
  "kernelspec": {
   "display_name": "Python 3 (ipykernel)",
   "language": "python",
   "name": "python3"
  },
  "language_info": {
   "codemirror_mode": {
    "name": "ipython",
    "version": 3
   },
   "file_extension": ".py",
   "mimetype": "text/x-python",
   "name": "python",
   "nbconvert_exporter": "python",
   "pygments_lexer": "ipython3",
   "version": "3.12.6"
  }
 },
 "nbformat": 4,
 "nbformat_minor": 5
}
