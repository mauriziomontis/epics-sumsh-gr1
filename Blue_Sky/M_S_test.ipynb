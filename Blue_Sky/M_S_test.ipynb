{
 "cells": [
  {
   "cell_type": "code",
   "execution_count": null,
   "id": "30b92c43-9bd6-452b-b3d2-615ad6cea0ed",
   "metadata": {},
   "outputs": [],
   "source": [
    "##Motor + Sensor"
   ]
  },
  {
   "cell_type": "code",
   "execution_count": null,
   "id": "8d05853e-7a3f-45a5-b9c7-a084c8307db7",
   "metadata": {},
   "outputs": [],
   "source": []
  },
  {
   "cell_type": "code",
   "execution_count": 20,
   "id": "ee0ecf66-c2a9-4231-a82e-c81625c1f5dc",
   "metadata": {},
   "outputs": [],
   "source": [
    "from ophyd import Component as Cpt, Device, EpicsSignal, EpicsSignalRO,PVPositioner\n",
    "from ophyd.status import Status\n",
    "\n",
    "class MotorDR(PVPositioner):\n",
    "\n",
    "    setpoint = Cpt(EpicsSignal,':mminput')\n",
    "    done = Cpt(EpicsSignal, '_Mtr.DMOV') # _Mtr.DMOV\n",
    "    readback = Cpt(EpicsSignal,':steptomm')\n",
    "\n",
    "\n",
    "\n",
    "class gsmtr(Device):\n",
    "    # Señales de setpoint (readback)\n",
    "    gauss_on = Cpt(EpicsSignal, \":turnon\")\n",
    "    #gauss_off = Cpt(EpicsSignal, \":turnoff\")\n",
    "    #gaus_status_onoff = Cpt(EpicsSignalRO, \":turnon\")\n",
    "    readback = Cpt(EpicsSignalRO, \":getmagfield\")\n",
    "    #done = Cpt(EpicsSignalRO, 'Cmd-Busy')\n",
    "    def ton(self):\n",
    "        \n",
    "        self.gauss_on.put(\"1\")\n"
   ]
  },
  {
   "cell_type": "code",
   "execution_count": 21,
   "id": "988eb173-9660-4461-ae36-40c39df2eb0e",
   "metadata": {},
   "outputs": [],
   "source": [
    "motor = MotorDR('GR1:Ax1',name='motor')\n",
    "gaussmtr = gsmtr('GSMTR',name='gaussmtr')"
   ]
  },
  {
   "cell_type": "code",
   "execution_count": 22,
   "id": "fbb5142d-029a-4128-87c4-322fd7e6d11e",
   "metadata": {},
   "outputs": [
    {
     "data": {
      "text/plain": [
       "{'motor_readback': {'value': 20.0, 'timestamp': 1756373258.435276}}"
      ]
     },
     "execution_count": 22,
     "metadata": {},
     "output_type": "execute_result"
    }
   ],
   "source": [
    "motor.readback.read()"
   ]
  },
  {
   "cell_type": "code",
   "execution_count": 23,
   "id": "bbb24506-9692-4254-a78b-26344172e5ac",
   "metadata": {},
   "outputs": [
    {
     "data": {
      "text/plain": [
       "{'gaussmtr_readback': {'value': 0.0, 'timestamp': 1756373333.278265}}"
      ]
     },
     "execution_count": 23,
     "metadata": {},
     "output_type": "execute_result"
    }
   ],
   "source": [
    "gaussmtr.readback.read()"
   ]
  },
  {
   "cell_type": "code",
   "execution_count": 24,
   "id": "d84d93e7-f23e-4a60-8f85-99d7924156a1",
   "metadata": {},
   "outputs": [
    {
     "name": "stderr",
     "output_type": "stream",
     "text": [
      "CA.Client.Exception...............................................\n",
      "    Warning: \"Channel write request failed\"\n",
      "    Context: \"op=1, channel=GSMTR:turnon, type=DBR_STRING, count=1, ctx=\"GSMTR:turnon\"\"\n",
      "    Source File: ../oldChannelNotify.cpp line 160\n",
      "    Current Time: Thu Aug 28 2025 09:28:55.300022579\n",
      "..................................................................\n"
     ]
    },
    {
     "name": "stdout",
     "output_type": "stream",
     "text": [
      "\n",
      "\n",
      "+-----------+------------+----------------+-------------------+\n",
      "|   seq_num |       time | motor_readback | gaussmtr_readback |\n",
      "+-----------+------------+----------------+-------------------+\n",
      "|         1 | 09:29:00.4 |             -0 |                 0 |\n",
      "|         2 | 09:29:00.8 |              1 |                 0 |\n",
      "|         3 | 09:29:01.2 |              2 |                 0 |\n",
      "|         4 | 09:29:01.6 |              3 |                 0 |\n",
      "|         5 | 09:29:02.0 |              4 |                 0 |\n",
      "|         6 | 09:29:02.4 |              5 |                 0 |\n",
      "|         7 | 09:29:02.8 |              6 |                 0 |\n",
      "|         8 | 09:29:03.2 |              7 |                 0 |\n",
      "|         9 | 09:29:03.6 |              8 |                 0 |\n",
      "|        10 | 09:29:04.0 |              9 |                 0 |\n",
      "|        11 | 09:29:04.4 |             10 |                 0 |\n",
      "|        12 | 09:29:04.8 |             11 |                 0 |\n",
      "|        13 | 09:29:05.2 |             12 |                 0 |\n",
      "|        14 | 09:29:05.6 |             13 |                 0 |\n",
      "|        15 | 09:29:06.0 |             14 |                 0 |\n",
      "|        16 | 09:29:06.4 |             15 |                 0 |\n",
      "|        17 | 09:29:06.8 |             16 |                 0 |\n",
      "|        18 | 09:29:07.2 |             17 |                 0 |\n",
      "|        19 | 09:29:07.6 |             18 |                 0 |\n",
      "|        20 | 09:29:08.0 |             19 |                 0 |\n",
      "|        21 | 09:29:08.4 |             20 |                 0 |\n",
      "+-----------+------------+----------------+-------------------+\n",
      "generator scan ['2b2e8111'] (scan num: 1)\n",
      "\n",
      "\n"
     ]
    },
    {
     "data": {
      "text/plain": [
       "('2b2e8111-b4a4-4239-b50c-f565663ebf7f',)"
      ]
     },
     "execution_count": 24,
     "metadata": {},
     "output_type": "execute_result"
    }
   ],
   "source": [
    "from bluesky import RunEngine\n",
    "from bluesky.plans import scan\n",
    "from bluesky.callbacks import LiveTable\n",
    "from ophyd.sim import noisy_det\n",
    "\n",
    "# Create and configure the RunEngine\n",
    "RE = RunEngine()\n",
    "#print(\"%f\",mot.motor_rdist_mm)\n",
    "gaussmtr.ton()\n",
    "# Subscribe a LiveTable to show the current readback\n",
    "RE.subscribe(LiveTable([motor.readback,gaussmtr.readback]))\n",
    "\n",
    "# Perform a scan moving the PSU setpoint from 0 A to 7 A in 11 steps\n",
    "RE(scan([gaussmtr.readback], motor, 0,20, 21))"
   ]
  },
  {
   "cell_type": "code",
   "execution_count": null,
   "id": "ad36176d-3bff-4026-96e4-ad190e136b9a",
   "metadata": {},
   "outputs": [],
   "source": []
  }
 ],
 "metadata": {
  "kernelspec": {
   "display_name": "Python 3 (ipykernel)",
   "language": "python",
   "name": "python3"
  },
  "language_info": {
   "codemirror_mode": {
    "name": "ipython",
    "version": 3
   },
   "file_extension": ".py",
   "mimetype": "text/x-python",
   "name": "python",
   "nbconvert_exporter": "python",
   "pygments_lexer": "ipython3",
   "version": "3.12.6"
  }
 },
 "nbformat": 4,
 "nbformat_minor": 5
}
