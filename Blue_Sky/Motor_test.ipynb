{
 "cells": [
  {
   "cell_type": "code",
   "execution_count": null,
   "id": "3634664b-9cc1-4a12-ad2f-b07fa782015a",
   "metadata": {},
   "outputs": [],
   "source": [
    "## Motor "
   ]
  },
  {
   "cell_type": "code",
   "execution_count": null,
   "id": "eaa1b5f7-4dc4-4c30-9048-ac48297de880",
   "metadata": {},
   "outputs": [],
   "source": [
    "from ophyd import Component, Device, EpicsSignal, EpicsSignalRO, EpicsMotor\n",
    "from ophyd.status import Status\n",
    "\n",
    "\n",
    "\n",
    "\n",
    "motor = EpicsMotor(\"GR1:Ax1:\",name=\"motor\")"
   ]
  },
  {
   "cell_type": "code",
   "execution_count": null,
   "id": "5beeabdb-9afd-40ca-9e9c-4819c9dd13d1",
   "metadata": {},
   "outputs": [],
   "source": [
    "motor.read()"
   ]
  },
  {
   "cell_type": "code",
   "execution_count": 8,
   "id": "ec7c4f5d-6669-460f-a0c9-72f1c570b27a",
   "metadata": {},
   "outputs": [
    {
     "data": {
      "text/plain": [
       "'\\nmotor_wdist_mm  = Cpt(EpicsSignal, \"GR1:Ax1:mminput\")\\nmotor_c  = Component(EpicsSignal, \"GR1:Ax1:RunCalibration\")\\nmotord_rdist_mm = Component(EpicsSignalRO, \"GR1:Ax1:steptomm\")\\n\\n\\ndef set_dmm(self, setpoint):\\n    stat = Status(timeout=30.0)\\n    if setpoint>=0 and setpoint<=20:\\n        # Poner el setpoint\\n        self.motor_wdist_mm.put(setpoint)\\n\\ndef read_dmm(self):\\n    stat = Status(timeout=30.0)\\n\\n    # Poner el setpoint\\n    self.motor_rdist_mm.get()\\n\\n\\ndef calibrate(self):\\n    stat = Status(timeout=30.0)\\n    self.motor_c.put(1)\\n'"
      ]
     },
     "execution_count": 8,
     "metadata": {},
     "output_type": "execute_result"
    }
   ],
   "source": [
    "from ophyd import Component as Cpt, Device, EpicsSignal, EpicsSignalRO,PVPositioner\n",
    "from ophyd.status import Status\n",
    "\n",
    "class MotorDR(PVPositioner):\n",
    "\n",
    "    setpoint = Cpt(EpicsSignal,':mminput')\n",
    "    done = Cpt(EpicsSignal, '_Mtr.DMOV') # _Mtr.DMOV\n",
    "    readback = Cpt(EpicsSignal,':steptomm')\n",
    "\n",
    "motor = MotorDR('GR1:Ax1',name='motor')\n",
    "    \n",
    "\n",
    "\"\"\"\n",
    "motor_wdist_mm  = Cpt(EpicsSignal, \"GR1:Ax1:mminput\")\n",
    "motor_c  = Component(EpicsSignal, \"GR1:Ax1:RunCalibration\")\n",
    "motord_rdist_mm = Component(EpicsSignalRO, \"GR1:Ax1:steptomm\")\n",
    "\n",
    "\n",
    "def set_dmm(self, setpoint):\n",
    "    stat = Status(timeout=30.0)\n",
    "    if setpoint>=0 and setpoint<=20:\n",
    "        # Poner el setpoint\n",
    "        self.motor_wdist_mm.put(setpoint)\n",
    "\n",
    "def read_dmm(self):\n",
    "    stat = Status(timeout=30.0)\n",
    "    \n",
    "    # Poner el setpoint\n",
    "    self.motor_rdist_mm.get()\n",
    "\n",
    "    \n",
    "def calibrate(self):\n",
    "    stat = Status(timeout=30.0)\n",
    "    self.motor_c.put(1)\n",
    "\"\"\"\n",
    "\n",
    "    \n"
   ]
  },
  {
   "cell_type": "code",
   "execution_count": 9,
   "id": "5cecc9db-08d5-4fd6-80ab-bac5d1377302",
   "metadata": {},
   "outputs": [
    {
     "data": {
      "text/plain": [
       "True"
      ]
     },
     "execution_count": 9,
     "metadata": {},
     "output_type": "execute_result"
    }
   ],
   "source": [
    "motor.connected"
   ]
  },
  {
   "cell_type": "code",
   "execution_count": 10,
   "id": "d52d68ee-a8fb-4e01-b24a-d614b0dc6332",
   "metadata": {},
   "outputs": [
    {
     "data": {
      "text/plain": [
       "EpicsSignal(read_pv='GR1:Ax1:mminput', name='motor_setpoint', parent='motor', timestamp=1756368907.132896, auto_monitor=False, string=False, write_pv='GR1:Ax1:mminput', limits=False, put_complete=False)"
      ]
     },
     "execution_count": 10,
     "metadata": {},
     "output_type": "execute_result"
    }
   ],
   "source": [
    "motor.setpoint"
   ]
  },
  {
   "cell_type": "code",
   "execution_count": 11,
   "id": "081f2e82-f49d-4755-ab3f-85ba39a6d61b",
   "metadata": {},
   "outputs": [
    {
     "data": {
      "text/plain": [
       "EpicsSignal(read_pv='GR1:Ax1_Mtr.DMOV', name='motor_done', parent='motor', value=1, timestamp=631329278.199999, auto_monitor=False, string=False, write_pv='GR1:Ax1_Mtr.DMOV', limits=False, put_complete=False)"
      ]
     },
     "execution_count": 11,
     "metadata": {},
     "output_type": "execute_result"
    }
   ],
   "source": [
    "motor.done"
   ]
  },
  {
   "cell_type": "code",
   "execution_count": 12,
   "id": "5eca77fe-1ffd-48fb-9a8b-714dab6465f4",
   "metadata": {},
   "outputs": [
    {
     "data": {
      "text/plain": [
       "EpicsSignal(read_pv='GR1:Ax1:steptomm', name='motor_readback', parent='motor', value=20.0, timestamp=1756373048.435277, auto_monitor=False, string=False, write_pv='GR1:Ax1:steptomm', limits=False, put_complete=False)"
      ]
     },
     "execution_count": 12,
     "metadata": {},
     "output_type": "execute_result"
    }
   ],
   "source": [
    "motor.readback"
   ]
  },
  {
   "cell_type": "code",
   "execution_count": 13,
   "id": "9967313a-8c1f-4e81-9848-b57b2e13c7d6",
   "metadata": {},
   "outputs": [],
   "source": [
    "status = motor.set(15)"
   ]
  },
  {
   "cell_type": "code",
   "execution_count": 14,
   "id": "f8daa76c-737f-4afd-bc17-236d914f2886",
   "metadata": {},
   "outputs": [
    {
     "data": {
      "text/plain": [
       "MoveStatus(done=True, pos=motor, elapsed=1.3, success=True, settle_time=0.0)"
      ]
     },
     "execution_count": 14,
     "metadata": {},
     "output_type": "execute_result"
    }
   ],
   "source": [
    "status"
   ]
  },
  {
   "cell_type": "code",
   "execution_count": 15,
   "id": "78a8c626-19af-4e67-895a-ab0043c12c0e",
   "metadata": {},
   "outputs": [
    {
     "data": {
      "text/plain": [
       "{'motor_setpoint': {'value': 15.0, 'timestamp': 1756373113.115933}}"
      ]
     },
     "execution_count": 15,
     "metadata": {},
     "output_type": "execute_result"
    }
   ],
   "source": [
    "motor.setpoint.read()\n"
   ]
  },
  {
   "cell_type": "code",
   "execution_count": 16,
   "id": "4e724f8e-ff0a-4cd9-a29f-0e8a75c24f56",
   "metadata": {},
   "outputs": [
    {
     "data": {
      "text/plain": [
       "{'motor_readback': {'value': 15.0, 'timestamp': 1756373114.535293}}"
      ]
     },
     "execution_count": 16,
     "metadata": {},
     "output_type": "execute_result"
    }
   ],
   "source": [
    "motor.readback.read()"
   ]
  },
  {
   "cell_type": "code",
   "execution_count": null,
   "id": "4ed1b622-1186-4f60-8326-435d4ff1b4b6",
   "metadata": {},
   "outputs": [],
   "source": [
    "##Calibration"
   ]
  },
  {
   "cell_type": "code",
   "execution_count": 4,
   "id": "e21b2b1e-1aad-4ce3-a15c-e9f92d1d20a6",
   "metadata": {},
   "outputs": [],
   "source": [
    "#!/usr/bin/env python3\n",
    "\n",
    "from bluesky import RunEngine\n",
    "from bluesky.plans import scan\n",
    "from bluesky.callbacks import LiveTable\n",
    "\n",
    "#def callback(status):\n",
    "    #print(\"Done:\", status)\n",
    "\n",
    "# Instantiate with the new PV prefix\n"
   ]
  },
  {
   "cell_type": "code",
   "execution_count": 17,
   "id": "c057f8ac-1a3b-46f0-bea4-dee7de7c6295",
   "metadata": {},
   "outputs": [
    {
     "name": "stdout",
     "output_type": "stream",
     "text": [
      "\n",
      "\n",
      "+-----------+------------+----------------+\n",
      "|   seq_num |       time | motor_readback |\n",
      "+-----------+------------+----------------+\n",
      "|         1 | 09:26:22.1 |              0 |\n",
      "|         2 | 09:26:22.5 |              1 |\n",
      "|         3 | 09:26:22.9 |              2 |\n",
      "|         4 | 09:26:23.3 |              3 |\n",
      "|         5 | 09:26:23.7 |              4 |\n",
      "|         6 | 09:26:24.1 |              5 |\n",
      "|         7 | 09:26:24.5 |              6 |\n",
      "|         8 | 09:26:24.9 |              7 |\n",
      "|         9 | 09:26:25.3 |              8 |\n",
      "|        10 | 09:26:25.7 |              9 |\n",
      "|        11 | 09:26:26.1 |             10 |\n",
      "|        12 | 09:26:26.5 |             11 |\n",
      "|        13 | 09:26:26.9 |             12 |\n",
      "|        14 | 09:26:27.3 |             13 |\n",
      "|        15 | 09:26:27.7 |             14 |\n",
      "|        16 | 09:26:28.1 |             15 |\n",
      "|        17 | 09:26:28.5 |             16 |\n",
      "|        18 | 09:26:28.9 |             17 |\n",
      "|        19 | 09:26:29.3 |             18 |\n",
      "|        20 | 09:26:29.7 |             19 |\n",
      "|        21 | 09:26:30.1 |             20 |\n",
      "+-----------+------------+----------------+\n",
      "generator scan ['479f695d'] (scan num: 1)\n",
      "\n",
      "\n"
     ]
    },
    {
     "data": {
      "text/plain": [
       "('479f695d-c2dd-4244-b320-cd30f46865f1',)"
      ]
     },
     "execution_count": 17,
     "metadata": {},
     "output_type": "execute_result"
    }
   ],
   "source": [
    "# Create and configure the RunEngine\n",
    "RE = RunEngine()\n",
    "#print(\"%f\",mot.motor_rdist_mm)\n",
    "# Subscribe a LiveTable to show the current readback\n",
    "RE.subscribe(LiveTable([motor.readback]))\n",
    "from ophyd.sim import noisy_det\n",
    "# Perform a scan moving the PSU setpoint from 0 A to 7 A in 11 steps\n",
    "RE(scan([noisy_det], motor, 0,20, 21))"
   ]
  },
  {
   "cell_type": "code",
   "execution_count": null,
   "id": "efc8ebb8-bad0-4f68-9ba5-b4466d445bc8",
   "metadata": {},
   "outputs": [],
   "source": []
  }
 ],
 "metadata": {
  "kernelspec": {
   "display_name": "Python 3 (ipykernel)",
   "language": "python",
   "name": "python3"
  },
  "language_info": {
   "codemirror_mode": {
    "name": "ipython",
    "version": 3
   },
   "file_extension": ".py",
   "mimetype": "text/x-python",
   "name": "python",
   "nbconvert_exporter": "python",
   "pygments_lexer": "ipython3",
   "version": "3.12.6"
  }
 },
 "nbformat": 4,
 "nbformat_minor": 5
}
