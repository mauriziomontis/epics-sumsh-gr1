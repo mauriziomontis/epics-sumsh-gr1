{
 "cells": [
  {
   "cell_type": "code",
   "execution_count": null,
   "id": "68566e0c-c25c-4386-b6df-824e9b04e1bd",
   "metadata": {},
   "outputs": [],
   "source": [
    "##PS ophyd"
   ]
  },
  {
   "cell_type": "code",
   "execution_count": null,
   "id": "effd5c89-055b-407f-ae4e-6083e342e964",
   "metadata": {},
   "outputs": [],
   "source": [
    "from ophyd import Component, Device, EpicsSignal, EpicsSignalRO\n",
    "from ophyd.status import Status\n",
    "\n",
    "class pwrspl(Device):\n",
    "    # Señales de lectura (readback)\n",
    "    voltage_RB  = Component(EpicsSignalRO, \"PWRSPL:readV\")\n",
    "    current_RB  = Component(EpicsSignalRO, \"PWRSPL:readI\")\n",
    "\n",
    "    # Señal de setpoint\n",
    "    current_SP  = Component(EpicsSignal,   \"PWRSPL:setI\")\n",
    "\n",
    "    # Señales de encendido/apagado\n",
    "    on_cmd      = Component(EpicsSignal,   \"PWRSPL:on\")\n",
    "    off_cmd     = Component(EpicsSignal,   \"PWRSPL:off\")\n",
    "    # Estado de salida (asumimos que `PWRSPL:on` devuelve 1 cuando está on)\n",
    "    onoff_status= Component(EpicsSignalRO, \"PWRSPL:on\")\n",
    "\n",
    "    def set(self, setpoint):\n",
    "        stat = Status(timeout=30.0)\n",
    "        print(f\"onoff stat: {self.onoff_status.get()}\")\n",
    "        # Asegurar que esté encendido\n",
    "        if self.onoff_status.get() == \"\":\n",
    "            print(\"PS is OFF. Switching ON...\")\n",
    "            self.on_cmd.put(\"1\")\n",
    "\n",
    "        # Poner el setpoint\n",
    "        self.current_SP.put(setpoint)\n",
    "\n",
    "        # Esperar hasta que el readback y el setpoint coincidan (±0.1)\n",
    "        while True:\n",
    "            if abs(self.current_RB.get() - self.current_SP.get()) < 0.1:\n",
    "                stat.set_finished()\n",
    "                break\n",
    "\n",
    "        return stat\n",
    "\n",
    "    def toff(self):\n",
    "        stat = Status(timeout=30.0)\n",
    "        print(f\"onoff stat: {self.onoff_status.get()}\")\n",
    "        # Asegurar que esté encendido\n",
    "        if self.onoff_status.get() == \"1\":\n",
    "            print(\"PS is ON. Switching OFF...\")\n",
    "            self.on_cmd.put(\"\")\n",
    "\n",
    "    \n"
   ]
  },
  {
   "cell_type": "code",
   "execution_count": null,
   "id": "34c490ff-9c1f-47b8-bef3-63a2daaab922",
   "metadata": {},
   "outputs": [],
   "source": [
    "##PS TEST"
   ]
  },
  {
   "cell_type": "code",
   "execution_count": null,
   "id": "f0e5a2d3-e982-4a6e-8a31-5b1b1a3fee33",
   "metadata": {},
   "outputs": [],
   "source": [
    "#!/usr/bin/env python3\n",
    "\n",
    "from bluesky import RunEngine\n",
    "from bluesky.plans import scan\n",
    "from bluesky.callbacks import LiveTable\n",
    "\n",
    "def callback(status):\n",
    "    print(\"Done:\", status)\n",
    "\n",
    "# Instantiate with the new PV prefix\n",
    "psu = pwrspl(\"\", name=\"psu\")"
   ]
  },
  {
   "cell_type": "code",
   "execution_count": null,
   "id": "7c360ca2-9653-47fb-8302-08d639af48bd",
   "metadata": {},
   "outputs": [],
   "source": [
    "# Turn on and set to 4 A\n",
    "status = psu.set(4)\n",
    "status.add_callback(callback)\n",
    "status.wait()  # block until complete"
   ]
  },
  {
   "cell_type": "code",
   "execution_count": null,
   "id": "dac8e549-4d26-42d1-b557-c101c6a13922",
   "metadata": {},
   "outputs": [],
   "source": [
    "# Create and configure the RunEngine\n",
    "RE = RunEngine()\n",
    "\n",
    "# Subscribe a LiveTable to show the current readback\n",
    "RE.subscribe(LiveTable([psu.current_RB]))\n",
    "\n",
    "# Perform a scan moving the PSU setpoint from 0 A to 7 A in 11 steps\n",
    "RE(scan([], psu, -7, 7, 15))"
   ]
  },
  {
   "cell_type": "code",
   "execution_count": null,
   "id": "2451a8e4-2a4d-4c3e-92d8-be71fd5aac54",
   "metadata": {},
   "outputs": [],
   "source": [
    "psu.ton()"
   ]
  },
  {
   "cell_type": "code",
   "execution_count": null,
   "id": "0e31da20-5517-4ed9-96cb-fa4c9bb99888",
   "metadata": {},
   "outputs": [],
   "source": []
  }
 ],
 "metadata": {
  "kernelspec": {
   "display_name": "Python 3 (ipykernel)",
   "language": "python",
   "name": "python3"
  },
  "language_info": {
   "codemirror_mode": {
    "name": "ipython",
    "version": 3
   },
   "file_extension": ".py",
   "mimetype": "text/x-python",
   "name": "python",
   "nbconvert_exporter": "python",
   "pygments_lexer": "ipython3",
   "version": "3.12.6"
  }
 },
 "nbformat": 4,
 "nbformat_minor": 5
}
