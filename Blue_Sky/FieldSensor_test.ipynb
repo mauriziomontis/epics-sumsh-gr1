{
 "cells": [
  {
   "cell_type": "code",
   "execution_count": null,
   "id": "f43c4fec-5b47-4aa3-8324-d0303ea76d05",
   "metadata": {},
   "outputs": [],
   "source": []
  },
  {
   "cell_type": "code",
   "execution_count": 21,
   "id": "2a9a4d07-808c-48ed-97f0-53b588cfb0e2",
   "metadata": {},
   "outputs": [],
   "source": [
    "from ophyd import Component as Cpt, Device, EpicsSignal, EpicsSignalRO,PVPositioner\n",
    "from ophyd.status import Status\n",
    "\n",
    "class gsmtr(Device):\n",
    "    # Señales de setpoint (readback)\n",
    "    #gauss_on = Cpt(EpicsSignal, \":turnon\")\n",
    "    #gauss_off = Cpt(EpicsSignal, \":turnoff\")\n",
    "    #gaus_status_onoff = Cpt(EpicsSignalRO, \":turnon\")\n",
    "    readback = Cpt(EpicsSignalRO, \":getmagfield\")\n",
    "    #done = Cpt(EpicsSignalRO, 'Cmd-Busy')\n",
    "    \n",
    "   \n",
    "    '''def ton(self):\n",
    "        # Asegurar que esté encendido\n",
    "        if self.gaus_status_onoff.get() == \"\":\n",
    "            print(\"Hall sensor is OFF. Switching ON...\")\n",
    "            self.gauss_on.put(\"1\")\n",
    "\n",
    "    def toff(self):\n",
    "        # Asegurar que esté encendido\n",
    "        if self.gaus_status_onoff.get() == \"1\":\n",
    "            print(\"Hall sensor is ON. Switching OFF...\")\n",
    "            self.gauss_on.put(\"\")\n",
    "\n",
    "    def read_field(self):\n",
    "        stat = Status(timeout=30.0)\n",
    "        \n",
    "        # Poner el setpoint\n",
    "        field=self.gauss_field.get()\n",
    "        return field'''\n",
    "    \n",
    "    \n",
    "\n",
    "gaussmtr = gsmtr('GSMTR',name='gaussmtr')    \n"
   ]
  },
  {
   "cell_type": "code",
   "execution_count": 9,
   "id": "9213f63e-d494-4296-844f-9be8e693c1b6",
   "metadata": {
    "collapsed": true,
    "jupyter": {
     "outputs_hidden": true,
     "source_hidden": true
    }
   },
   "outputs": [
    {
     "ename": "ValueError",
     "evalue": "PVPositioner gaussmtr is mis-configured. A \"done\" Signal must be provided or use PVPositionerPC (which uses put completion to determine when motion has completed).",
     "output_type": "error",
     "traceback": [
      "\u001b[31m---------------------------------------------------------------------------\u001b[39m",
      "\u001b[31mValueError\u001b[39m                                Traceback (most recent call last)",
      "\u001b[36mCell\u001b[39m\u001b[36m \u001b[39m\u001b[32mIn[9]\u001b[39m\u001b[32m, line 1\u001b[39m\n\u001b[32m----> \u001b[39m\u001b[32m1\u001b[39m gaussmtr = \u001b[43mgsmtr\u001b[49m\u001b[43m(\u001b[49m\u001b[33;43m'\u001b[39;49m\u001b[33;43mGSMTR\u001b[39;49m\u001b[33;43m'\u001b[39;49m\u001b[43m,\u001b[49m\u001b[43mname\u001b[49m\u001b[43m=\u001b[49m\u001b[33;43m'\u001b[39;49m\u001b[33;43mgaussmtr\u001b[39;49m\u001b[33;43m'\u001b[39;49m\u001b[43m)\u001b[49m\n",
      "\u001b[36mFile \u001b[39m\u001b[32m/opt/tljh/user/lib/python3.12/site-packages/ophyd/pv_positioner.py:127\u001b[39m, in \u001b[36mPVPositioner.__init__\u001b[39m\u001b[34m(self, prefix, limits, name, read_attrs, configuration_attrs, parent, egu, **kwargs)\u001b[39m\n\u001b[32m    120\u001b[39m \u001b[38;5;28;01mif\u001b[39;00m \u001b[38;5;28mself\u001b[39m.done \u001b[38;5;129;01mis\u001b[39;00m \u001b[38;5;28;01mNone\u001b[39;00m \u001b[38;5;129;01mand\u001b[39;00m \u001b[38;5;129;01mnot\u001b[39;00m \u001b[38;5;28mself\u001b[39m.put_complete:\n\u001b[32m    121\u001b[39m     msg = (\n\u001b[32m    122\u001b[39m         \u001b[33m'\u001b[39m\u001b[33mPVPositioner \u001b[39m\u001b[38;5;132;01m{}\u001b[39;00m\u001b[33m is mis-configured. A \u001b[39m\u001b[33m\"\u001b[39m\u001b[33mdone\u001b[39m\u001b[33m\"\u001b[39m\u001b[33m Signal must be\u001b[39m\u001b[33m'\u001b[39m\n\u001b[32m    123\u001b[39m         \u001b[33m\"\u001b[39m\u001b[33m provided or use PVPositionerPC (which uses put completion\u001b[39m\u001b[33m\"\u001b[39m\n\u001b[32m    124\u001b[39m         \u001b[33m\"\u001b[39m\u001b[33m to determine when motion has completed).\u001b[39m\u001b[33m\"\u001b[39m\n\u001b[32m    125\u001b[39m         \u001b[33m\"\u001b[39m\u001b[33m\"\u001b[39m.format(\u001b[38;5;28mself\u001b[39m.name)\n\u001b[32m    126\u001b[39m     )\n\u001b[32m--> \u001b[39m\u001b[32m127\u001b[39m     \u001b[38;5;28;01mraise\u001b[39;00m \u001b[38;5;167;01mValueError\u001b[39;00m(msg)\n\u001b[32m    129\u001b[39m \u001b[38;5;28;01mif\u001b[39;00m \u001b[38;5;28mself\u001b[39m.done \u001b[38;5;129;01mis\u001b[39;00m \u001b[38;5;129;01mnot\u001b[39;00m \u001b[38;5;28;01mNone\u001b[39;00m:\n\u001b[32m    130\u001b[39m     \u001b[38;5;28mself\u001b[39m.done.subscribe(\u001b[38;5;28mself\u001b[39m._move_changed)\n",
      "\u001b[31mValueError\u001b[39m: PVPositioner gaussmtr is mis-configured. A \"done\" Signal must be provided or use PVPositionerPC (which uses put completion to determine when motion has completed)."
     ]
    }
   ],
   "source": []
  },
  {
   "cell_type": "code",
   "execution_count": 22,
   "id": "4939656c-d174-40ff-ba1a-fb9ba657ac91",
   "metadata": {},
   "outputs": [],
   "source": [
    "#!/usr/bin/env python3\n",
    "\n",
    "from bluesky import RunEngine\n",
    "from bluesky.plans import scan\n",
    "from bluesky.callbacks import LiveTable\n",
    "\n",
    "def callback(status):\n",
    "    print(\"Done:\", status)\n",
    "\n",
    "# Instantiate with the new PV prefix\n",
    "#gausmeter = gsmtr(\"\", name=\"gausmeter\")"
   ]
  },
  {
   "cell_type": "code",
   "execution_count": 23,
   "id": "e642e101-e8c2-439e-a229-bcbae440341e",
   "metadata": {},
   "outputs": [
    {
     "name": "stderr",
     "output_type": "stream",
     "text": [
      "Run aborted\n",
      "Traceback (most recent call last):\n",
      "  File \"/opt/tljh/user/lib/python3.12/site-packages/bluesky/run_engine.py\", line 1621, in _run\n",
      "    msg = self._plan_stack[-1].send(resp)\n",
      "          ^^^^^^^^^^^^^^^^^^^^^^^^^^^^^^^\n",
      "  File \"/opt/tljh/user/lib/python3.12/site-packages/bluesky/plans.py\", line 1234, in scan\n",
      "    raise ValueError(\n",
      "ValueError: The number of points to scan must be provided as the last positional argument or as keyword argument 'num'.\n"
     ]
    },
    {
     "ename": "ValueError",
     "evalue": "The number of points to scan must be provided as the last positional argument or as keyword argument 'num'.",
     "output_type": "error",
     "traceback": [
      "\u001b[31m---------------------------------------------------------------------------\u001b[39m",
      "\u001b[31mValueError\u001b[39m                                Traceback (most recent call last)",
      "\u001b[36mCell\u001b[39m\u001b[36m \u001b[39m\u001b[32mIn[23]\u001b[39m\u001b[32m, line 12\u001b[39m\n\u001b[32m      5\u001b[39m RE.subscribe(LiveTable([gaussmtr.readback]))\n\u001b[32m      7\u001b[39m \u001b[38;5;66;03m# Perform a scan moving the PSU setpoint from 0 A to 7 A in 11 steps\u001b[39;00m\n\u001b[32m      8\u001b[39m \u001b[38;5;66;03m#RE(count([rw_horiz.x], num=3, delay=1))\u001b[39;00m\n\u001b[32m      9\u001b[39m \u001b[38;5;66;03m#RE(count([gausmeter.gauss_field]))\u001b[39;00m\n\u001b[32m     10\u001b[39m \u001b[38;5;66;03m#RE(scan([], gausmeter, -7, 7, 15))\u001b[39;00m\n\u001b[32m     11\u001b[39m \u001b[38;5;66;03m#RE(scan([],gaussmtr.readback))\u001b[39;00m\n\u001b[32m---> \u001b[39m\u001b[32m12\u001b[39m \u001b[43mRE\u001b[49m\u001b[43m(\u001b[49m\u001b[43mscan\u001b[49m\u001b[43m(\u001b[49m\u001b[43m[\u001b[49m\u001b[43mgaussmtr\u001b[49m\u001b[43m.\u001b[49m\u001b[43mreadback\u001b[49m\u001b[43m]\u001b[49m\u001b[43m)\u001b[49m\u001b[43m)\u001b[49m\n",
      "\u001b[36mFile \u001b[39m\u001b[32m/opt/tljh/user/lib/python3.12/site-packages/bluesky/run_engine.py:985\u001b[39m, in \u001b[36mRunEngine.__call__\u001b[39m\u001b[34m(self, *args, **metadata_kw)\u001b[39m\n\u001b[32m    981\u001b[39m         \u001b[38;5;28mself\u001b[39m._blocking_event.set()\n\u001b[32m    983\u001b[39m     \u001b[38;5;28mself\u001b[39m._task_fut.add_done_callback(set_blocking_event)\n\u001b[32m--> \u001b[39m\u001b[32m985\u001b[39m plan_return = \u001b[38;5;28;43mself\u001b[39;49m\u001b[43m.\u001b[49m\u001b[43m_resume_task\u001b[49m\u001b[43m(\u001b[49m\u001b[43minit_func\u001b[49m\u001b[43m=\u001b[49m\u001b[43m_build_task\u001b[49m\u001b[43m)\u001b[49m\n\u001b[32m    987\u001b[39m \u001b[38;5;28;01mif\u001b[39;00m \u001b[38;5;28mself\u001b[39m._interrupted:\n\u001b[32m    988\u001b[39m     \u001b[38;5;28;01mraise\u001b[39;00m RunEngineInterrupted(\u001b[38;5;28mself\u001b[39m.pause_msg) \u001b[38;5;28;01mfrom\u001b[39;00m\u001b[38;5;250m \u001b[39m\u001b[38;5;28;01mNone\u001b[39;00m\n",
      "\u001b[36mFile \u001b[39m\u001b[32m/opt/tljh/user/lib/python3.12/site-packages/bluesky/run_engine.py:1132\u001b[39m, in \u001b[36mRunEngine._resume_task\u001b[39m\u001b[34m(self, init_func)\u001b[39m\n\u001b[32m   1129\u001b[39m             plan_return = \u001b[38;5;28mself\u001b[39m.NO_PLAN_RETURN\n\u001b[32m   1130\u001b[39m         \u001b[38;5;66;03m# otherwise re-raise it\u001b[39;00m\n\u001b[32m   1131\u001b[39m         \u001b[38;5;28;01melse\u001b[39;00m:\n\u001b[32m-> \u001b[39m\u001b[32m1132\u001b[39m             \u001b[38;5;28;01mraise\u001b[39;00m exc\n\u001b[32m   1133\u001b[39m \u001b[38;5;28;01melse\u001b[39;00m:\n\u001b[32m   1134\u001b[39m     plan_return = \u001b[38;5;28;01mNone\u001b[39;00m\n",
      "\u001b[36mFile \u001b[39m\u001b[32m/opt/tljh/user/lib/python3.12/site-packages/bluesky/run_engine.py:1767\u001b[39m, in \u001b[36mRunEngine._run\u001b[39m\u001b[34m(self)\u001b[39m\n\u001b[32m   1765\u001b[39m     exit_reason = \u001b[38;5;28mstr\u001b[39m(err)\n\u001b[32m   1766\u001b[39m     \u001b[38;5;28mself\u001b[39m.log.exception(\u001b[33m\"\u001b[39m\u001b[33mRun aborted\u001b[39m\u001b[33m\"\u001b[39m)\n\u001b[32m-> \u001b[39m\u001b[32m1767\u001b[39m     \u001b[38;5;28;01mraise\u001b[39;00m err\n\u001b[32m   1768\u001b[39m \u001b[38;5;28;01mfinally\u001b[39;00m:\n\u001b[32m   1769\u001b[39m     \u001b[38;5;28;01mif\u001b[39;00m \u001b[38;5;129;01mnot\u001b[39;00m exit_reason:\n",
      "\u001b[36mFile \u001b[39m\u001b[32m/opt/tljh/user/lib/python3.12/site-packages/bluesky/run_engine.py:1621\u001b[39m, in \u001b[36mRunEngine._run\u001b[39m\u001b[34m(self)\u001b[39m\n\u001b[32m   1618\u001b[39m \u001b[38;5;66;03m# The normal case of clean operation\u001b[39;00m\n\u001b[32m   1619\u001b[39m \u001b[38;5;28;01melse\u001b[39;00m:\n\u001b[32m   1620\u001b[39m     \u001b[38;5;28;01mtry\u001b[39;00m:\n\u001b[32m-> \u001b[39m\u001b[32m1621\u001b[39m         msg = \u001b[38;5;28;43mself\u001b[39;49m\u001b[43m.\u001b[49m\u001b[43m_plan_stack\u001b[49m\u001b[43m[\u001b[49m\u001b[43m-\u001b[49m\u001b[32;43m1\u001b[39;49m\u001b[43m]\u001b[49m\u001b[43m.\u001b[49m\u001b[43msend\u001b[49m\u001b[43m(\u001b[49m\u001b[43mresp\u001b[49m\u001b[43m)\u001b[49m\n\u001b[32m   1622\u001b[39m     \u001b[38;5;66;03m# We have exhausted the top generator\u001b[39;00m\n\u001b[32m   1623\u001b[39m     \u001b[38;5;28;01mexcept\u001b[39;00m \u001b[38;5;167;01mStopIteration\u001b[39;00m:\n\u001b[32m   1624\u001b[39m         \u001b[38;5;66;03m# pop the dead generator go back to the top\u001b[39;00m\n",
      "\u001b[36mFile \u001b[39m\u001b[32m/opt/tljh/user/lib/python3.12/site-packages/bluesky/plans.py:1234\u001b[39m, in \u001b[36mscan\u001b[39m\u001b[34m(detectors, num, per_step, md, *args)\u001b[39m\n\u001b[32m   1232\u001b[39m \u001b[38;5;28;01mif\u001b[39;00m num \u001b[38;5;129;01mis\u001b[39;00m \u001b[38;5;28;01mNone\u001b[39;00m:\n\u001b[32m   1233\u001b[39m     \u001b[38;5;28;01mif\u001b[39;00m \u001b[38;5;28mlen\u001b[39m(args) % \u001b[32m3\u001b[39m != \u001b[32m1\u001b[39m:\n\u001b[32m-> \u001b[39m\u001b[32m1234\u001b[39m         \u001b[38;5;28;01mraise\u001b[39;00m \u001b[38;5;167;01mValueError\u001b[39;00m(\n\u001b[32m   1235\u001b[39m             \u001b[33m\"\u001b[39m\u001b[33mThe number of points to scan must be provided \u001b[39m\u001b[33m\"\u001b[39m\n\u001b[32m   1236\u001b[39m             \u001b[33m\"\u001b[39m\u001b[33mas the last positional argument or as keyword \u001b[39m\u001b[33m\"\u001b[39m\n\u001b[32m   1237\u001b[39m             \u001b[33m\"\u001b[39m\u001b[33margument \u001b[39m\u001b[33m'\u001b[39m\u001b[33mnum\u001b[39m\u001b[33m'\u001b[39m\u001b[33m.\u001b[39m\u001b[33m\"\u001b[39m\n\u001b[32m   1238\u001b[39m         )\n\u001b[32m   1239\u001b[39m     num = args[-\u001b[32m1\u001b[39m]  \u001b[38;5;66;03m# type: ignore\u001b[39;00m\n\u001b[32m   1240\u001b[39m     args = args[:-\u001b[32m1\u001b[39m]\n",
      "\u001b[31mValueError\u001b[39m: The number of points to scan must be provided as the last positional argument or as keyword argument 'num'."
     ]
    },
    {
     "name": "stderr",
     "output_type": "stream",
     "text": [
      "CA.Client.Exception...............................................\n",
      "    Warning: \"Virtual circuit disconnect\"\n",
      "    Context: \"iocsc3ess4x.ews.bessy.de:5064\"\n",
      "    Source File: ../cac.cpp line 1237\n",
      "    Current Time: Thu Aug 28 2025 08:43:39.604459194\n",
      "..................................................................\n"
     ]
    }
   ],
   "source": [
    "# Create and configure the RunEngine\n",
    "RE = RunEngine()\n",
    "\n",
    "# Subscribe a LiveTable to show the current readback\n",
    "RE.subscribe(LiveTable([gaussmtr.readback]))\n",
    "\n",
    "# Perform a scan moving the PSU setpoint from 0 A to 7 A in 11 steps\n",
    "#RE(count([rw_horiz.x], num=3, delay=1))\n",
    "#RE(count([gausmeter.gauss_field]))\n",
    "#RE(scan([], gausmeter, -7, 7, 15))\n",
    "#RE(scan([],gaussmtr.readback))\n",
    "RE(scan([gaussmtr.readback]))"
   ]
  },
  {
   "cell_type": "code",
   "execution_count": null,
   "id": "60757930-0149-4eb2-953c-f8f0c88c8df2",
   "metadata": {},
   "outputs": [],
   "source": []
  }
 ],
 "metadata": {
  "kernelspec": {
   "display_name": "Python 3 (ipykernel)",
   "language": "python",
   "name": "python3"
  },
  "language_info": {
   "codemirror_mode": {
    "name": "ipython",
    "version": 3
   },
   "file_extension": ".py",
   "mimetype": "text/x-python",
   "name": "python",
   "nbconvert_exporter": "python",
   "pygments_lexer": "ipython3",
   "version": "3.12.6"
  }
 },
 "nbformat": 4,
 "nbformat_minor": 5
}
